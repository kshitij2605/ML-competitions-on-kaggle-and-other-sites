{
  "nbformat": 4,
  "nbformat_minor": 0,
  "metadata": {
    "colab": {
      "name": "MLCompetition_B19ME039.ipynb",
      "provenance": [],
      "collapsed_sections": []
    },
    "kernelspec": {
      "name": "python3",
      "display_name": "Python 3"
    }
  },
  "cells": [
    {
      "cell_type": "code",
      "metadata": {
        "id": "2zLFXIH33Ejg"
      },
      "source": [
        "import pandas as pd\n",
        "import numpy as np\n",
        "from sklearn.neighbors import KNeighborsClassifier\n",
        "from sklearn.svm import SVC\n",
        "from sklearn.model_selection import train_test_split\n",
        "from sklearn.preprocessing import MinMaxScaler, MaxAbsScaler, StandardScaler\n",
        "from sklearn.metrics import accuracy_score\n",
        "from scipy.stats import zscore\n",
        "from sklearn.model_selection import RepeatedKFold\n",
        "from sklearn.model_selection import cross_val_score\n",
        "from numpy import mean\n",
        "from numpy import std\n",
        "\n",
        "X_train1 = pd.read_csv(\"/content/train.csv\")\n",
        "del X_train1[\"Image_Id\"]"
      ],
      "execution_count": null,
      "outputs": []
    },
    {
      "cell_type": "code",
      "metadata": {
        "id": "-Ko15Slt3Z4Z"
      },
      "source": [
        "Y = X_train1.iloc[:, 784]\n",
        "del X_train1[\"labels\"]"
      ],
      "execution_count": null,
      "outputs": []
    },
    {
      "cell_type": "code",
      "metadata": {
        "id": "BnEoAg1H3jqV",
        "colab": {
          "base_uri": "https://localhost:8080/"
        },
        "outputId": "15085d67-dae6-4767-9c39-5b1be5cb3f03"
      },
      "source": [
        "X_test1 = pd.read_csv(\"/content/test.csv\")\n",
        "del X_test1[\"Image_Id\"]\n",
        "\n",
        "a = X_test1.mean()\n",
        "b = []\n",
        "for i in a:\n",
        "  if i != 0:\n",
        "    b.append(i)\n",
        "\n",
        "print(np.sum(b)/len(b))"
      ],
      "execution_count": null,
      "outputs": [
        {
          "output_type": "stream",
          "text": [
            "46.42009105509823\n"
          ],
          "name": "stdout"
        }
      ]
    },
    {
      "cell_type": "code",
      "metadata": {
        "colab": {
          "base_uri": "https://localhost:8080/"
        },
        "id": "IlKOmeO-4ziL",
        "outputId": "75e9266e-f308-4ed7-b33f-96cc9ad1fb52"
      },
      "source": [
        "X_train2 = X_train1.copy()\n",
        "X_test2 = X_test1.copy()\n",
        "X_train2[X_train2 < 23] = 0\n",
        "X_train2[X_train2  >= 23] = 255\n",
        "X_test2[X_test2 < 37] = 0\n",
        "X_test2[X_test2 >= 37] = 255\n",
        "\n",
        "X_train2 = X_train2.replace([-np.inf, np.inf], np.nan)\n",
        "X_train2 = X_train2.dropna()\n",
        "# print(X_train2.head())\n",
        "\n",
        "X_train, X_test, Y_train, Y_test = train_test_split(X_train2, Y, test_size=0.2, shuffle=False)\n",
        "\n",
        "cv = RepeatedKFold(n_splits=5, n_repeats=3, random_state=1)\n",
        "\n",
        "clf1 = SVC(C=1000, gamma=5e-07)\n",
        "clf1.fit(X_train, Y_train)\n",
        "print(clf1.score(X_test, Y_test))\n",
        "scores = cross_val_score(clf1, X_train2, Y, scoring='accuracy', cv=cv, n_jobs=-1)\n",
        "print('Accuracy: %.3f (%.3f)' % (mean(scores), std(scores)))"
      ],
      "execution_count": null,
      "outputs": [
        {
          "output_type": "stream",
          "text": [
            "0.9964454976303317\n",
            "Accuracy: 0.994 (0.002)\n"
          ],
          "name": "stdout"
        }
      ]
    },
    {
      "cell_type": "code",
      "metadata": {
        "id": "nZk1ejMNTQSg",
        "colab": {
          "base_uri": "https://localhost:8080/"
        },
        "outputId": "d0688633-a16d-4644-bd91-96b2f414c232"
      },
      "source": [
        "clf2 = SVC(C=1000, gamma=5e-07)\n",
        "clf2.fit(X_train2, Y)"
      ],
      "execution_count": null,
      "outputs": [
        {
          "output_type": "execute_result",
          "data": {
            "text/plain": [
              "SVC(C=1000, break_ties=False, cache_size=200, class_weight=None, coef0=0.0,\n",
              "    decision_function_shape='ovr', degree=3, gamma=5e-07, kernel='rbf',\n",
              "    max_iter=-1, probability=False, random_state=None, shrinking=True,\n",
              "    tol=0.001, verbose=False)"
            ]
          },
          "metadata": {
            "tags": []
          },
          "execution_count": 118
        }
      ]
    },
    {
      "cell_type": "code",
      "metadata": {
        "id": "zJIdEmxk3_gw",
        "colab": {
          "base_uri": "https://localhost:8080/"
        },
        "outputId": "1b7d4973-d55e-4130-e8c4-195744a1e679"
      },
      "source": [
        "y_pred1 = clf2.predict(X_test2) \n",
        "print(y_pred1.shape)"
      ],
      "execution_count": null,
      "outputs": [
        {
          "output_type": "stream",
          "text": [
            "(3029,)\n"
          ],
          "name": "stdout"
        }
      ]
    },
    {
      "cell_type": "code",
      "metadata": {
        "id": "IUTVInfCCzJq",
        "colab": {
          "base_uri": "https://localhost:8080/"
        },
        "outputId": "3ce58678-bd16-4774-b2c8-169502e4f059"
      },
      "source": [
        "y_pred1 = y_pred1.reshape((3029,1))\n",
        "Image_Id = np.arange(0,3029)\n",
        "Image_Id = Image_Id.reshape((3029,1))\n",
        "data = np.hstack((Image_Id,y_pred1))\n",
        "print(data.shape)"
      ],
      "execution_count": null,
      "outputs": [
        {
          "output_type": "stream",
          "text": [
            "(3029, 2)\n"
          ],
          "name": "stdout"
        }
      ]
    },
    {
      "cell_type": "code",
      "metadata": {
        "id": "5AY0qUZDDAKi"
      },
      "source": [
        "# import csv\n",
        "# with open(\"sample\", 'w', newline='') as csv_file:\n",
        "#   wr = csv.writer(csv_file)\n",
        "#   wr.writerows(data)\n",
        "#   csv_file.close()"
      ],
      "execution_count": null,
      "outputs": []
    }
  ]
}