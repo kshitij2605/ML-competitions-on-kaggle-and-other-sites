{
  "nbformat": 4,
  "nbformat_minor": 0,
  "metadata": {
    "colab": {
      "name": "Kaggle2_B19ME039.ipynb",
      "provenance": [],
      "collapsed_sections": []
    },
    "kernelspec": {
      "name": "python3",
      "display_name": "Python 3"
    }
  },
  "cells": [
    {
      "cell_type": "code",
      "metadata": {
        "id": "yxFLWbFAx9l_"
      },
      "source": [
        "import numpy as np\n",
        "import pandas as pd\n",
        "from sklearn.svm import SVC\n",
        "from sklearn.model_selection import train_test_split\n",
        "from sklearn.preprocessing import StandardScaler\n",
        "from sklearn.metrics import log_loss\n",
        "\n",
        "X_train = pd.read_csv(\"/content/train.csv\")\n",
        "X_test = pd.read_csv(\"/content/test.csv\")"
      ],
      "execution_count": null,
      "outputs": []
    },
    {
      "cell_type": "code",
      "metadata": {
        "id": "aGL9kvlyz8FL"
      },
      "source": [
        "Y_true = X_train.iloc[:, 94]\n",
        "del X_train[\"ID\"]\n",
        "del X_train[\"target_Class\"]\n",
        "del X_test[\"ID\"]"
      ],
      "execution_count": null,
      "outputs": []
    },
    {
      "cell_type": "code",
      "metadata": {
        "id": "0tfa7nwD1aRf"
      },
      "source": [
        "from sklearn.linear_model import SGDClassifier\n",
        "\n",
        "X_train1, X_test1, Y_train1, Y_test1 = train_test_split(X_train, Y_true, test_size=0.25, stratify=Y_true, random_state=123)\n",
        "scaler = StandardScaler()\n",
        "scaler.fit(X_train1)\n",
        "X_train1 = scaler.transform(X_train1)\n",
        "X_test1 = scaler.transform(X_test1)\n",
        "\n",
        "g = [1000,100,10,1,0.1,0.01,0.001,0.0001,0.00001]\n",
        "\n",
        "for i in g:\n",
        "  clf = SGDClassifier(loss='log', max_iter=1000000, alpha=i, penalty='l2', tol=None)\n",
        "  clf.fit(X_train1, Y_train1)\n",
        "  prob = clf.predict_proba(X_test1)\n",
        "  print(log_loss(Y_test1, prob), clf.score(X_test1, Y_test1), i)\n",
        "  print(clf.score(X_test1, Y_test1))"
      ],
      "execution_count": null,
      "outputs": []
    },
    {
      "cell_type": "code",
      "metadata": {
        "id": "e-I8yMsPBDPC"
      },
      "source": [
        "clf = SVC(C=10, gamma=0.0019, probability=True)\n",
        "clf.fit(X_train1, Y_train1)\n",
        "prob = clf.predict_proba(X_test1)\n",
        "# prob[prob > 0.7] = 1\n",
        "# prob[prob < 0.3] = 0\n",
        "# print(log_loss(Y_test1, prob), clf.score(X_test1, Y_test1))\n",
        "r = np.arange(0, 0.5, 0.001)\n",
        "best_r = 0\n",
        "best_loss = 1\n",
        "best_s = 0\n",
        "\n",
        "for i in r:\n",
        "  prob1 = prob.copy() \n",
        "  s = np.arange(0,1,0.001)\n",
        "  for j in s:\n",
        "    prob1[prob >= i] = 1-j\n",
        "    prob1[prob < i] = j\n",
        "    loss = log_loss(Y_test1, prob1)\n",
        "    print(log_loss(Y_test1, prob1), clf.score(X_test1, Y_test1), i)\n",
        "    if loss < best_loss:\n",
        "      best_loss = loss\n",
        "      best_r = i\n",
        "      best_s = j"
      ],
      "execution_count": null,
      "outputs": []
    },
    {
      "cell_type": "code",
      "metadata": {
        "id": "fXzgJVcIfBxQ"
      },
      "source": [
        "X_train2 = StandardScaler().fit_transform(X_train)\n",
        "clf = SVC(C=10, gamma=0.00987, probability=True)\n",
        "clf.fit(X_train2, Y_true)\n",
        "X_test2 = StandardScaler().fit_transform(X_test)\n",
        "prob = clf.predict_proba(X_test2)"
      ],
      "execution_count": null,
      "outputs": []
    },
    {
      "cell_type": "code",
      "metadata": {
        "id": "W5MszIt_y2qI"
      },
      "source": [
        "Id = np.arange(0, 3000).reshape((3000,1))\n",
        "data = np.hstack((Id,prob))\n",
        "print(data.shape)"
      ],
      "execution_count": null,
      "outputs": []
    },
    {
      "cell_type": "code",
      "metadata": {
        "id": "Y3yp5YICzeyJ"
      },
      "source": [
        "import csv\n",
        "with open(\"sample.csv\", 'w', newline='') as csv_file:\n",
        "  wr = csv.writer(csv_file)\n",
        "  wr.writerows(data)\n",
        "  csv_file.close()"
      ],
      "execution_count": null,
      "outputs": []
    }
  ]
}